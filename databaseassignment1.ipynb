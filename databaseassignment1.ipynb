{
 "cells": [
  {
   "cell_type": "code",
   "execution_count": null,
   "id": "42157994-2d26-4e6e-b768-5c5ad5996d8b",
   "metadata": {},
   "outputs": [],
   "source": [
    "Q1. What is a database? Differentiate between SQL and NoSQL databases.\n",
    "\n",
    "answer:\n",
    "\n",
    "A database is a structured collection of data that is organized and stored in a way that facilitates efficient retrieval, \n",
    "management, and manipulation of data. Databases are used in various applications to store and manage structured or unstructured data,\n",
    "ranging from simple lists and tables to complex relationships and multimedia content.\n",
    "\n",
    "Differentiating SQL and NoSQL Databases:\n",
    "SQL Databases (Relational Databases):\n",
    "\n",
    "Structure: SQL databases are structured databases that organize data into tables with rows and columns. The schema is predefined, and\n",
    "data is stored in a tabular format.\n",
    "Schema: SQL databases typically have a fixed schema, meaning the structure of the data (columns, data types, relationships) must be\n",
    "defined before data insertion.\n",
    "Query Language: SQL (Structured Query Language) is the standard language used to interact with SQL databases. SQL provides a \n",
    "standardized syntax for querying, updating, and managing data.\n",
    "ACID Transactions: SQL databases generally support ACID (Atomicity, Consistency, Isolation, Durability) transactions, \n",
    "                   ensuring data integrity and consistency.\n",
    "Examples: MySQL, PostgreSQL, Oracle, SQL Server.\n",
    "NoSQL Databases (Non-Relational Databases):\n",
    "\n",
    "Structure: NoSQL databases are non-relational databases that store data in a flexible, schema-less format.\n",
    "                   They can handle unstructured or semi-structured data.\n",
    "Schema: NoSQL databases often have dynamic schemas, allowing for easy modification and adaptation to changing data requirements.\n",
    "Query Language: NoSQL databases may use different query languages or APIs depending on the specific database type and implementation.\n",
    "                   Some databases support SQL-like querying, while others use proprietary query languages or APIs.\n",
    "ACID Transactions: NoSQL databases may offer eventual consistency rather than strong consistency, sacrificing some guarantees\n",
    "                   of ACID transactions for scalability and performance.\n",
    "Examples: MongoDB, Cassandra, Couchbase, Redis.\n",
    "Key Differences:\n",
    "\n",
    "SQL databases are relational databases that use a structured schema with tables and SQL for querying, while NoSQL databases are non-relational\n",
    "                   and offer more flexible data models without a fixed schema.\n",
    "SQL databases are well-suited for applications with complex relationships and structured data, while NoSQL databases excel in handling\n",
    "unstructured or semi-structured data, high-volume data, and applications requiring horizontal scalability.\n",
    "SQL databases generally offer strong consistency and ACID transactions, while NoSQL databases may prioritize scalability, availability,\n",
    "and partition tolerance (CAP theorem) over strong consistency."
   ]
  },
  {
   "cell_type": "code",
   "execution_count": null,
   "id": "ae62092e-6548-4ba7-ad37-a4da234e4b21",
   "metadata": {},
   "outputs": [],
   "source": [
    "Q2. What is DDL? Explain why CREATE, DROP, ALTER, and TRUNCATE are used with an example.\n",
    "\n",
    "answer:\n",
    "DDL stands for Data Definition Language. It is a subset of SQL (Structured Query Language) that is used to define the structure\n",
    "and schema of a database. DDL statements are responsible for creating, modifying, and deleting database objects such as tables, indexes,\n",
    "views, and constraints.\n"
   ]
  },
  {
   "cell_type": "code",
   "execution_count": null,
   "id": "a2990659-f8c8-44b2-918d-59b6544efe4a",
   "metadata": {},
   "outputs": [],
   "source": [
    "CREATE: The CREATE statement is used to create new database objects such as tables, indexes, views, or databases themselves."
   ]
  },
  {
   "cell_type": "code",
   "execution_count": 1,
   "id": "2e9a3e38-8eff-48ad-8f94-794d5c25adfa",
   "metadata": {},
   "outputs": [
    {
     "ename": "SyntaxError",
     "evalue": "invalid syntax (1497675135.py, line 1)",
     "output_type": "error",
     "traceback": [
      "\u001b[1;36m  Cell \u001b[1;32mIn[1], line 1\u001b[1;36m\u001b[0m\n\u001b[1;33m    CREATE TABLE employees (\u001b[0m\n\u001b[1;37m           ^\u001b[0m\n\u001b[1;31mSyntaxError\u001b[0m\u001b[1;31m:\u001b[0m invalid syntax\n"
     ]
    }
   ],
   "source": [
    "CREATE TABLE employees (\n",
    "    id INT PRIMARY KEY,\n",
    "    name VARCHAR(100),\n",
    "    department VARCHAR(100)\n",
    ");\n"
   ]
  },
  {
   "cell_type": "code",
   "execution_count": null,
   "id": "aa5737bb-5090-4b62-b0a6-3ff0b385219f",
   "metadata": {},
   "outputs": [],
   "source": [
    "DROP: The DROP statement is used to delete existing database objects such as tables, indexes, views, or databases themselves."
   ]
  },
  {
   "cell_type": "code",
   "execution_count": null,
   "id": "8a1dbcf5-2de0-4b3f-8600-80502c5d7aa9",
   "metadata": {},
   "outputs": [],
   "source": [
    "DROP TABLE employees;"
   ]
  },
  {
   "cell_type": "code",
   "execution_count": null,
   "id": "9ae16884-2a53-42ac-8674-fa872330c97e",
   "metadata": {},
   "outputs": [],
   "source": [
    "ALTER: The ALTER statement is used to modify the structure of an existing database object. It can be used to add,\n",
    "modify, or delete columns, constraints, or indexes."
   ]
  },
  {
   "cell_type": "code",
   "execution_count": null,
   "id": "484876be-7493-42e8-a96b-842b2be8c478",
   "metadata": {},
   "outputs": [],
   "source": [
    "ALTER TABLE employees\n",
    "ADD COLUMN email VARCHAR(100);"
   ]
  },
  {
   "cell_type": "code",
   "execution_count": null,
   "id": "f4895cbe-7ba7-4e91-a0f3-7ccb60c80144",
   "metadata": {},
   "outputs": [],
   "source": [
    "TRUNCATE: The TRUNCATE statement is used to remove all rows from a table, while preserving the table's structure."
   ]
  },
  {
   "cell_type": "code",
   "execution_count": null,
   "id": "ad123968-f869-4734-834e-1ddb999d7c67",
   "metadata": {},
   "outputs": [],
   "source": [
    "CREATE: Used to create new database objects, such as tables, indexes, or views, based on the specified schema.\n",
    "It's essential for initializing a database structure.\n",
    "\n",
    "DROP: Used to delete existing database objects, such as tables or indexes, when they are no longer needed or need to be recreated from scratch.\n",
    "\n",
    "ALTER: Used to modify the structure of an existing database object, such as adding or removing columns from a table, \n",
    "changing data types, or adding constraints.\n",
    "\n",
    "TRUNCATE: Used to quickly remove all rows from a table, typically when you want to reset the contents of a table without\n",
    "deleting and recreating it, as it's faster and more efficient than DELETE for large tables."
   ]
  },
  {
   "cell_type": "code",
   "execution_count": null,
   "id": "602fc489-9bc4-4ecc-a257-63e7c2800d78",
   "metadata": {},
   "outputs": [],
   "source": [
    "Q3. What is DML? Explain INSERT, UPDATE, and DELETE with an example.\n",
    "\n",
    "answer:\n",
    "\n",
    "\n",
    "DML stands for Data Manipulation Language. It is a subset of SQL (Structured Query Language) that is used to manipulate data \n",
    "stored in a database. DML statements are responsible for performing operations such as inserting, updating, deleting, and querying data \n",
    "within database tables.\n",
    "\n",
    "INSERT: Used to add new data into a table, allowing you to populate the database with initial data or add additional records as needed.\n",
    "\n",
    "UPDATE: Used to modify existing data within a table, enabling you to change the values of specific columns in existing rows based on\n",
    "specified conditions.\n",
    "\n",
    "DELETE: Used to remove existing data from a table, allowing you to delete specific rows or clear the entire table as needed."
   ]
  },
  {
   "cell_type": "code",
   "execution_count": null,
   "id": "1d42eeea-9dd4-4d65-a55e-b681966a58bf",
   "metadata": {},
   "outputs": [],
   "source": [
    "Q4. What is DQL? Explain SELECT with an example.\n",
    "\n",
    "answer:\n",
    "\n",
    "DQL stands for Data Query Language. It is a subset of SQL (Structured Query Language) that is used to retrieve data from a database. \n",
    "DQL statements are responsible for querying and retrieving data stored in database tables.\n",
    "\n",
    "The SELECT statement is the primary DQL statement used to retrieve data from one or more tables in a database."
   ]
  },
  {
   "cell_type": "code",
   "execution_count": null,
   "id": "8142146e-3ea4-4848-9ec4-c79c13f4aeb9",
   "metadata": {},
   "outputs": [],
   "source": [
    "syntax of select statement is\n",
    "\n",
    "SELECT column1, column2, ...\n",
    "FROM table_name\n",
    "WHERE condition;\n"
   ]
  },
  {
   "cell_type": "code",
   "execution_count": null,
   "id": "08620651-0d80-4755-ac8e-eb90f2883d87",
   "metadata": {},
   "outputs": [],
   "source": [
    "SELECT * FROM employees;"
   ]
  },
  {
   "cell_type": "code",
   "execution_count": null,
   "id": "919b0248-9322-44be-956f-356513f87f2a",
   "metadata": {},
   "outputs": [],
   "source": [
    "Q5. Explain Primary Key and Foreign Key.\n",
    "\n",
    "answer:\n",
    "Primary Key:\n",
    "\n",
    "A primary key is a column or a set of columns in a database table that uniquely identifies each record (row) in that table.\n",
    "It serves as a unique identifier for the rows, ensuring that no two rows have the same values for the primary key column(s).\n",
    "The primary key constraint ensures data integrity and uniqueness within the table.\n",
    "\n",
    "Key features of a primary key:\n",
    "\n",
    "Uniqueness: Each value in the primary key column(s) must be unique across all rows in the table.\n",
    "Non-null: Primary key columns cannot contain null values. Each row must have a valid primary key value.\n",
    "Indexed: Primary keys are typically indexed to provide fast access to data when querying by the primary key.\n",
    "Example of defining a primary key in SQL:\n",
    "\n",
    "sql\n",
    "Copy code\n",
    "CREATE TABLE employees (\n",
    "    employee_id INT PRIMARY KEY,\n",
    "    name VARCHAR(100),\n",
    "    department VARCHAR(100)\n",
    ");"
   ]
  },
  {
   "cell_type": "code",
   "execution_count": null,
   "id": "408f07c0-b579-4273-92b0-183d0f0ffcb7",
   "metadata": {},
   "outputs": [],
   "source": [
    "Foreign Key:\n",
    "\n",
    "A foreign key is a column or a set of columns in a database table that establishes a relationship between two tables. It represents a link between a child table (the table containing the foreign key column) and a parent table (the referenced table) based on the values of one or more columns. The foreign key constraint ensures referential integrity, enforcing that the values in the foreign key column(s) of the child table must match the values of the primary key column(s) in the parent table or be null.\n",
    "\n",
    "Key features of a foreign key:\n",
    "\n",
    "Referential Integrity: Foreign keys maintain referential integrity by ensuring that each value in the foreign key column(s) of the child table either matches a value in the corresponding primary key column(s) of the parent table or is null.\n",
    "Enforced Relationships: Foreign keys establish relationships between tables, defining dependencies and constraints on the data.\n",
    "Cascading Actions: Foreign key constraints can define cascading actions such as cascading updates or deletes, specifying what actions should be taken in the child table when corresponding changes occur in the parent table.\n",
    "Example of defining a foreign key in SQL:\n",
    "\n",
    "sql\n",
    "Copy code\n",
    "CREATE TABLE orders (\n",
    "    order_id INT PRIMARY KEY,\n",
    "    customer_id INT,\n",
    "    order_date DATE,\n",
    "    FOREIGN KEY (customer_id) REFERENCES customers(customer_id)\n",
    ");"
   ]
  },
  {
   "cell_type": "code",
   "execution_count": null,
   "id": "b835777a-6f51-4fa3-9474-98c3485d4128",
   "metadata": {},
   "outputs": [],
   "source": [
    "Q6. Write a python code to connect MySQL to python. Explain the cursor() and execute() method.\n",
    "\n",
    "answer:\n",
    "import mysql.connector\n",
    "\n",
    "# Connect to MySQL\n",
    "conn = mysql.connector.connect(\n",
    "    host=\"your_host\",\n",
    "    user=\"your_username\",\n",
    "    password=\"your_password\",\n",
    "    database=\"your_database\"\n",
    ")\n",
    "\n",
    "# Create a cursor object\n",
    "cursor = conn.cursor()\n",
    "\n",
    "# Execute SQL query\n",
    "cursor.execute(\"SELECT * FROM your_table\")\n",
    "\n",
    "# Fetch the results\n",
    "result = cursor.fetchall()\n",
    "for row in result:\n",
    "    print(row)\n",
    "\n",
    "# Close the cursor and connection\n",
    "cursor.close()\n",
    "conn.close()\n",
    "Explanation of cursor() and execute() methods:\n",
    "\n",
    "cursor() method:\n",
    "\n",
    "The cursor() method is used to create a cursor object, which allows you to execute SQL queries and fetch results from the database.\n",
    "A cursor acts as a pointer to the current row in the result set.\n",
    "You can have multiple cursors open at the same time on the same connection.\n",
    "The cursor object is created by calling the cursor() method on the connection object (conn in the above example).\n",
    "execute() method:\n",
    "\n",
    "The execute() method is used to execute an SQL query or command.\n",
    "You pass the SQL query as a parameter to the execute() method.\n",
    "The method returns None.\n",
    "After calling execute(), you can fetch the results using methods like fetchone(), fetchall(), or fetchmany(), depending on your requirements."
   ]
  },
  {
   "cell_type": "code",
   "execution_count": null,
   "id": "1a2df0c9-f2f2-49c4-a354-073a6bcd1e82",
   "metadata": {},
   "outputs": [],
   "source": [
    "Q7. Give the order of execution of SQL clauses in an SQL query.\n",
    "\n",
    "answer:\n",
    "In SQL, the order of execution of clauses in an SQL query is as follows:\n",
    "\n",
    "FROM: The FROM clause specifies the tables from which data will be selected. It identifies the source tables or views from which\n",
    "the data will be retrieved.\n",
    "\n",
    "JOIN: The JOIN clause is used to combine rows from two or more tables based on a related column between them. It performs the join operation,\n",
    "merging the rows from the specified tables based on the specified join condition.\n",
    "\n",
    "WHERE: The WHERE clause is used to filter rows from the result set based on specified conditions. It acts as a filter that selects \n",
    "rows that satisfy the specified criteria.\n",
    "\n",
    "GROUP BY: The GROUP BY clause is used to group rows that have the same values into summary rows, typically to perform aggregate functions \n",
    "(such as COUNT, SUM, AVG) on each group.\n",
    "\n",
    "HAVING: The HAVING clause is used in conjunction with the GROUP BY clause to filter groups based on specified conditions. It acts as a\n",
    "filter on grouped rows, similar to the WHERE clause but for groups rather than individual rows.\n",
    "\n",
    "SELECT: The SELECT clause specifies the columns that will be included in the result set. It determines which columns or expressions will be\n",
    "retrieved from the tables or views specified in the FROM clause.\n",
    "\n",
    "DISTINCT: The DISTINCT keyword is used to eliminate duplicate rows from the result set. It ensures that only unique rows are included in the\n",
    "final result set.\n",
    "\n",
    "ORDER BY: The ORDER BY clause is used to sort the rows in the result set based on specified columns or expressions. It determines the order \n",
    "in which the rows will be presented in the final result set.\n",
    "\n",
    "LIMIT/OFFSET: The LIMIT and OFFSET clauses are used to limit the number of rows returned by the query and to specify an offset for the \n",
    "        starting point of the result set, respectively. They control pagination and the number of rows retrieved from the result set."
   ]
  },
  {
   "cell_type": "code",
   "execution_count": null,
   "id": "c2fddf89-05e9-4d5f-8bc9-a2c1d201dc86",
   "metadata": {},
   "outputs": [],
   "source": []
  }
 ],
 "metadata": {
  "kernelspec": {
   "display_name": "Python 3 (ipykernel)",
   "language": "python",
   "name": "python3"
  },
  "language_info": {
   "codemirror_mode": {
    "name": "ipython",
    "version": 3
   },
   "file_extension": ".py",
   "mimetype": "text/x-python",
   "name": "python",
   "nbconvert_exporter": "python",
   "pygments_lexer": "ipython3",
   "version": "3.12.0"
  }
 },
 "nbformat": 4,
 "nbformat_minor": 5
}
